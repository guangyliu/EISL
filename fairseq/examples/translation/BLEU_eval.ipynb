{
 "cells": [
  {
   "cell_type": "code",
   "execution_count": 1,
   "id": "sexual-congo",
   "metadata": {},
   "outputs": [],
   "source": [
    "import os\n",
    "import nltk\n",
    "from nltk.translate.bleu_score import corpus_bleu"
   ]
  },
  {
   "cell_type": "code",
   "execution_count": 4,
   "id": "coastal-census",
   "metadata": {
    "tags": []
   },
   "outputs": [
    {
     "name": "stdout",
     "output_type": "stream",
     "text": [
      "rsbs\n",
      "100.0\n",
      "76.871\n",
      "39.068\n",
      "23.621\n",
      "16.002\n",
      "10.102\n",
      "6.211\n",
      "3.464\n",
      "1.992\n",
      "1.375\n",
      "0.522\n"
     ]
    }
   ],
   "source": [
    "# noise_range=[range(0,55,5),[0.5,1,1.5,2,2.5,3,3.5,4,4.5,5],range(0,55,5),[2,3,4,5,6,7,8,9,10,'all']]\n",
    "# noises=['mulsbs','blank','subbpe','shuffle']\n",
    "noise_range=[range(0,55,5)]\n",
    "noises=['rsbs']\n",
    "for k,noise in enumerate(noises):\n",
    "    prefix = 'multi30k_'\n",
    "    print(noise)\n",
    "    for i in noise_range[k]:\n",
    "        file_name = prefix+noise+str(i)\n",
    "        valid_ori_words = []\n",
    "        valid_noise_words = []\n",
    "        with open(file_name+\"/valid.en\") as f:\n",
    "            valid_ori = f.readlines()\n",
    "        for j,line in enumerate(valid_ori):\n",
    "            valid_ori_words.append([line.strip().split(' ')])\n",
    "        file_name = \"val/\"+prefix+noise+str(i)\n",
    "        with open(file_name+\"/valid.en\") as f:\n",
    "            valid_noise = f.readlines()\n",
    "        for j,line  in enumerate(valid_noise):\n",
    "            valid_noise_words.append(line.strip().split(' '))\n",
    "        bleu = corpus_bleu(list_of_references=valid_ori_words,hypotheses=valid_noise_words)\n",
    "        print(round(bleu*100,3))"
   ]
  },
  {
   "cell_type": "code",
   "execution_count": null,
   "id": "general-behalf",
   "metadata": {},
   "outputs": [],
   "source": [
    "mulsbs0 \t 100.0\n",
    "mulsbs5 \t 83.58\n",
    "mulsbs10 \t 43.038\n",
    "mulsbs15 \t 24.239\n",
    "mulsbs20 \t 13.01\n",
    "mulsbs25 \t 6.663\n",
    "mulsbs30 \t 2.794\n",
    "mulsbs35 \t 1.557\n",
    "mulsbs40 \t 0.672\n",
    "mulsbs45 \t 0.0\n",
    "mulsbs50 \t 0.0\n",
    "blank0.5 \t 83.944\n",
    "blank1 \t 70.731\n",
    "blank1.5 \t 59.433\n",
    "blank2 \t 50.158\n",
    "blank2.5 \t 41.031\n",
    "blank3 \t 32.977\n",
    "blank3.5 \t 26.513\n",
    "blank4 \t 22.776\n",
    "blank4.5 \t 16.927\n",
    "blank5 \t 13.21\n",
    "subbpe0 \t 100.0\n",
    "subbpe5 \t 88.236\n",
    "subbpe10 \t 77.266\n",
    "subbpe15 \t 66.698\n",
    "subbpe20 \t 58.065\n",
    "subbpe25 \t 49.277\n",
    "subbpe30 \t 40.797\n",
    "subbpe35 \t 34.365\n",
    "subbpe40 \t 29.035\n",
    "subbpe45 \t 21.974\n",
    "subbpe50 \t 17.89\n",
    "shuffle2 \t 56.703\n",
    "shuffle3 \t 46.408\n",
    "shuffle4 \t 37.604\n",
    "shuffle5 \t 30.306\n",
    "shuffle6 \t 24.532\n",
    "shuffle7 \t 20.444\n",
    "shuffle8 \t 16.923\n",
    "shuffle9 \t 14.51\n",
    "shuffle10 \t 12.897\n",
    "shuffleall \t 7.756"
   ]
  },
  {
   "cell_type": "code",
   "execution_count": null,
   "id": "cardiovascular-glenn",
   "metadata": {},
   "outputs": [],
   "source": []
  }
 ],
 "metadata": {
  "kernelspec": {
   "display_name": "Python 3",
   "language": "python",
   "name": "python3"
  },
  "language_info": {
   "codemirror_mode": {
    "name": "ipython",
    "version": 3
   },
   "file_extension": ".py",
   "mimetype": "text/x-python",
   "name": "python",
   "nbconvert_exporter": "python",
   "pygments_lexer": "ipython3",
   "version": "3.7.9"
  }
 },
 "nbformat": 4,
 "nbformat_minor": 5
}
